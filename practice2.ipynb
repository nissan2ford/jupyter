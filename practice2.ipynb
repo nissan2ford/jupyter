{
 "cells": [
  {
   "cell_type": "code",
   "execution_count": 1,
   "metadata": {},
   "outputs": [
    {
     "name": "stdout",
     "output_type": "stream",
     "text": [
      "['',\n",
      " '/usr/lib/python36.zip',\n",
      " '/usr/lib/python3.6',\n",
      " '/usr/lib/python3.6/lib-dynload',\n",
      " '/home/shin/.local/lib/python3.6/site-packages',\n",
      " '/usr/local/lib/python3.6/dist-packages',\n",
      " '/usr/lib/python3/dist-packages',\n",
      " '/usr/lib/python3/dist-packages/IPython/extensions',\n",
      " '/home/shin/.ipython']\n",
      "<class 'numpy.ndarray'>\n"
     ]
    },
    {
     "data": {
      "text/plain": [
       "<matplotlib.image.AxesImage at 0x7f4de0e9f400>"
      ]
     },
     "execution_count": 1,
     "metadata": {},
     "output_type": "execute_result"
    },
    {
     "data": {
      "image/png": "[encoded data removed]",
      "text/plain": [
       "<matplotlib.figure.Figure at 0x7f4dfe7a6c88>"
      ]
     },
     "metadata": {},
     "output_type": "display_data"
    }
   ],
   "source": [
    "# ライブラリのインポート\n",
    "import sys\n",
    "import pprint\n",
    "\n",
    "# パス確認\n",
    "pprint.pprint(sys.path)\n",
    "\n",
    "# ライブラリのインポート\n",
    "import cv2                       # OpenCV\n",
    "import numpy as np               # numpy\n",
    "import matplotlib.pyplot as plt  # 画像表示ライブラリ\n",
    "\n",
    "# jupyter notebook 上で画像を確認できるようにする\n",
    "%matplotlib inline\n",
    "\n",
    "# cv2バージョン確認\n",
    "cv2.__version__\n",
    "\n",
    "# 表示画像の作成\n",
    "img2 = np.array([[[  0,  0,  0],[  0,  0,255],[  0,255,  0],[255,  0,  0]],\n",
    "                 [[  0,255,255],[255,  0,255],[255,255,  0],[255,255,255]]])\n",
    "img2 = img2.astype(np.uint8) # 値を読み込む方法を指定\n",
    "print(type(img2))\n",
    "\n",
    "# 画像表示\n",
    "plt.imshow(img2)\n"
   ]
  },
  {
   "cell_type": "code",
   "execution_count": null,
   "metadata": {},
   "outputs": [],
   "source": []
  }
 ],
 "metadata": {
  "kernelspec": {
   "display_name": "Python 3",
   "language": "python",
   "name": "python3"
  },
  "language_info": {
   "codemirror_mode": {
    "name": "ipython",
    "version": 3
   },
   "file_extension": ".py",
   "mimetype": "text/x-python",
   "name": "python",
   "nbconvert_exporter": "python",
   "pygments_lexer": "ipython3",
   "version": "3.6.8"
  }
 },
 "nbformat": 4,
 "nbformat_minor": 2
}
